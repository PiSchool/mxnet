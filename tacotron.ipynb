{
 "cells": [
  {
   "cell_type": "markdown",
   "metadata": {
    "collapsed": true
   },
   "source": [
    "TACOTRON"
   ]
  },
  {
   "cell_type": "code",
   "execution_count": 2,
   "metadata": {},
   "outputs": [],
   "source": [
    "from __future__ import print_function\n",
    "import mxnet as mx\n",
    "import numpy as np\n",
    "from mxnet import nd, autograd\n",
    "from IPython.display import clear_output\n",
    "ctx= mx.cpu()"
   ]
  },
  {
   "cell_type": "code",
   "execution_count": 3,
   "metadata": {},
   "outputs": [],
   "source": [
    "import librosa\n",
    "import librosa.display\n",
    "import matplotlib.pyplot as plt\n",
    "\n",
    "def get_spectrograms(sound_file): \n",
    "    '''Extracts melspectrogram and log magnitude from given `sound_file`.\n",
    "    Args:\n",
    "      sound_file: A string. Full path of a sound file.\n",
    "\n",
    "    Returns:\n",
    "      Transposed S: A 2d array. A transposed melspectrogram with shape of (T, n_mels)\n",
    "      Transposed magnitude: A 2d array.Has shape of (T, 1+hp.n_fft//2)\n",
    "    '''\n",
    "    frame_shift = 0.0125\n",
    "    frame_length = 0.05\n",
    "    \n",
    "    # Loading sound file\n",
    "    y, sr = librosa.load(sound_file) # or set sr to hp.sr.\n",
    "    print(\"Sampling at \"+str(sr))\n",
    "    # stft. D: (1+n_fft//2, T)\n",
    "    D = librosa.stft(y=y,\n",
    "                     n_fft=2048, \n",
    "                     hop_length=int(sr*frame_shift), \n",
    "                     win_length=int(sr*frame_length)\n",
    "                    ) \n",
    "    \n",
    "    # magnitude spectrogram\n",
    "    magnitude = np.abs(D) #(1+n_fft/2, T)\n",
    "    \n",
    "    log_magnitude=librosa.amplitude_to_db(magnitude,ref=np.max)\n",
    "    \n",
    "    # mel spectrogram\n",
    "    S = librosa.feature.melspectrogram(S=log_magnitude, n_mels=80) #(n_mels, T)\n",
    "    return S\n",
    "    #return np.transpose(S.astype(np.float32)), np.transpose(magnitude.astype(np.float32)) # (T, n_mels), (T, 1+n_fft/2)\n"
   ]
  },
  {
   "cell_type": "code",
   "execution_count": 4,
   "metadata": {},
   "outputs": [
    {
     "name": "stdout",
     "output_type": "stream",
     "text": [
      "Sampling at 22050\n"
     ]
    }
   ],
   "source": [
    "S=get_spectrograms('train_data/7_jackson_33.wav')"
   ]
  },
  {
   "cell_type": "code",
   "execution_count": 5,
   "metadata": {},
   "outputs": [
    {
     "data": {
      "text/plain": [
       "<matplotlib.axes._subplots.AxesSubplot at 0x7f1f83b255f8>"
      ]
     },
     "execution_count": 5,
     "metadata": {},
     "output_type": "execute_result"
    },
    {
     "data": {
      "image/png": "[encoded data removed]",
      "text/plain": [
       "<matplotlib.figure.Figure at 0x7f1f83cae358>"
      ]
     },
     "metadata": {},
     "output_type": "display_data"
    }
   ],
   "source": [
    "%matplotlib inline\n",
    "librosa.display.specshow(S,y_axis='mel',x_axis='time')"
   ]
  },
  {
   "cell_type": "code",
   "execution_count": 6,
   "metadata": {},
   "outputs": [],
   "source": [
    "num_hidden = 256\n",
    "reduction_factor=2\n",
    "emb_size=256\n",
    "batch_size=10"
   ]
  },
  {
   "cell_type": "code",
   "execution_count": 14,
   "metadata": {},
   "outputs": [],
   "source": [
    "import csv\n",
    "import codecs\n",
    "import re\n",
    "\n",
    "\n",
    "def generate_vocabulary(texts_list):    \n",
    "    # get unique chars and put into a list\n",
    "    return list(set(''.join(texts_list)))\n",
    "    \n",
    "\n",
    "def generate_chars2numbers_mappings(vocabulary):\n",
    "    # create a chars <-> numbers mappings\n",
    "    char2index = {char:i for i,char in enumerate(vocabulary)}\n",
    "    index2char = {i:char for i,char in enumerate(vocabulary)}\n",
    "    \n",
    "    return char2index,index2char\n",
    "\n",
    "\n",
    "def text2numbers(texts_list,char2index_mapping):\n",
    "    numerical_texts=[]\n",
    "    for text in texts_list:\n",
    "        numerical_texts.append([char2index_mapping[char] for char in text])\n",
    "    return numerical_texts\n",
    "\n",
    "def open_data(input_file_path):\n",
    "      \n",
    "    texts, sound_files = [], []\n",
    "    \n",
    "    reader = csv.reader(codecs.open(input_file_path, 'rb', 'utf-8'))\n",
    "    for row in reader:\n",
    "        sound_filename, text = row\n",
    "        sound_file = \"train_data/\" + sound_filename + \".wav\"\n",
    "        text = re.sub(r\"[^ a-z']\", \"\", text.strip().lower())\n",
    "         \n",
    "        texts.append(text)\n",
    "        sound_files.append(sound_file)\n",
    "             \n",
    "    return texts, sound_files\n",
    "\n",
    "def generate_train_eval_data(text_trainset, sound_labels):\n",
    "    size=len(text_trainset)\n",
    "\n",
    "    vocabulary = generate_vocabulary(texts_list)\n",
    "    vocab_size=len(vocabulary)\n",
    "    char2index,index2char = generate_chars2numbers_mappings(vocabulary)\n",
    "\n",
    "    texts_numerical = text2numbers(texts_list,char2index)\n",
    "    #texts_one_hot=[mx.ndarray.one_hot(mx.nd.array(text_numerical),vocab_size) for text_numerical in texts_numerical]\n",
    "\n",
    "    train_data = []\n",
    "    train_label = []\n",
    "    eval_data = []\n",
    "    eval_label = []\n",
    " \n",
    "    # get 10% of dataset as eval data\n",
    "    random_samples = np.random.randint(size, size=size//10)\n",
    "    \n",
    "    for i in range(size):\n",
    "        try:\n",
    "            if i in random_samples:\n",
    "                eval_data.append(texts_numerical[i])\n",
    "                eval_label.append(sound_labels[i])\n",
    "            else:\n",
    "                train_data.append(texts_numerical[i])\n",
    "                train_label.append(sound_labels[i])\n",
    "        except IndexError as e:\n",
    "            print(e)\n",
    "            print(\"i=%s, thing to add: %s %s\"%(i,text_trainset[i],sound_labels[i]))\n",
    "\n",
    "    with open('train_data/train_data.csv', 'w') as csvfile:\n",
    "        for line in train_data:\n",
    "            csvfile.write(','.join(str(char) for char in line)+\"\\n\")\n",
    "    \n",
    "    with open('train_data/train_label.csv', 'w') as csvfile:\n",
    "        for line in train_label:\n",
    "            csvfile.write(','.join(str(char) for char in line)+\"\\n\")\n",
    "    \n",
    "    with open('train_data/eval_data.csv', 'w') as csvfile:\n",
    "        for line in eval_data:\n",
    "            csvfile.write(','.join(str(char) for char in line)+\"\\n\")\n",
    "    \n",
    "    with open('train_data/eval_label.csv', 'w') as csvfile:\n",
    "        for line in eval_label:\n",
    "            csvfile.write(','.join(str(char) for char in line)+\"\\n\")\n",
    "\n",
    "    \n",
    "    traindata_iterator = mx.io.NDArrayIter(data={'data':train_data},\n",
    "                                label={'mel':mx.nd.ones((240,1))},\n",
    "                                batch_size=batch_size)\n",
    "    evaldata_iterator = mx.io.NDArrayIter(data={'data':eval_data},\n",
    "                                label={'mel':mx.nd.ones((240,1))},\n",
    "                                batch_size=batch_size)\n",
    "    \n",
    "    return traindata_iterator, evaldata_iterator\n",
    "\n",
    "\n",
    "texts_list, sound_files_list = open_data('train_data/dataset.csv')\n",
    "size=len(sound_files_list)\n",
    "\n",
    "longest_word = 0\n",
    "for text in texts_list:\n",
    "    longest_word = max(longest_word,len(text))\n",
    "\n",
    "traindata_iterator, evaldata_iterator = generate_train_eval_data(texts_list, sound_files_list)\n",
    "\n",
    "vocabulary = generate_vocabulary(texts_list)\n",
    "vocab_size=len(vocabulary)\n",
    "char2index,index2char = generate_chars2numbers_mappings(vocabulary)\n",
    "\n",
    "#texts_numerical = text2numbers(texts_list,char2index)\n",
    "\n",
    "#texts_one_hot=[mx.ndarray.one_hot(mx.nd.array(text_numerical),vocab_size) for text_numerical in texts_numerical]\n",
    "\n",
    "#dummy_sound=mx.nd.arange(200)\n",
    "\n",
    "#sounds_one_hot=mx.nd.one_hot(dummy_sound,200)"
   ]
  },
  {
   "cell_type": "code",
   "execution_count": 15,
   "metadata": {},
   "outputs": [],
   "source": [
    "\"\"\"\n",
    "FC-256-ReLU → Dropout(0.5) → FC-128-ReLU → Dropout(0.5)\n",
    "\"\"\"\n",
    "def prenet_pass(data):\n",
    "    fc1 = mx.symbol.FullyConnected(data=data, num_hidden=emb_size, name='prenet_fc1')\n",
    "    act1 = mx.symbol.Activation(data=fc1, act_type='relu', name='prenet_act1')\n",
    "    drop1 = mx.symbol.Dropout(act1, p=0.5, name='prenet_drop1')\n",
    "    \n",
    "    fc2 = mx.symbol.FullyConnected(data=drop1, num_hidden=emb_size//2, name='prenet_fc2')\n",
    "    act2 = mx.symbol.Activation(data=fc2, act_type='relu', name='prenet_act2')\n",
    "    prenet_output = mx.symbol.Dropout(act2, p=0.5, name='prenet_drop2')\n",
    "    \n",
    "    return prenet_output"
   ]
  },
  {
   "cell_type": "code",
   "execution_count": 16,
   "metadata": {},
   "outputs": [],
   "source": [
    "# banco di filtri convolutivi. Vengono creati K filtri con kernel 1D di dimensione:k \n",
    "def conv1dBank(conv_input, K):\n",
    "    conv=mx.sym.Convolution(data=conv_input, kernel=(1,1), num_filter=emb_size//2)\n",
    "    (conv, mean, var) = mx.sym.BatchNorm(data=conv, output_mean_var=True)\n",
    "    conv = mx.sym.Activation(data=conv, act_type='relu')\n",
    "    for k in range(2, K+1):\n",
    "        convi = mx.sym.Convolution(data=conv_input, kernel=(k,1), num_filter=emb_size//2)\n",
    "        (convi, mean, var) = mx.sym.BatchNorm(data=convi, output_mean_var=True)\n",
    "        convi = mx.sym.Activation(data=convi, act_type='relu')\n",
    "        conv = mx.symbol.concat(conv,convi)\n",
    "    return conv"
   ]
  },
  {
   "cell_type": "code",
   "execution_count": 17,
   "metadata": {},
   "outputs": [],
   "source": [
    "# highway\n",
    "def highway_layer(data):\n",
    "    H= mx.symbol.Activation(\n",
    "        data=mx.symbol.FullyConnected(data=data, num_hidden=emb_size//2, name=\"highway_fcH\"),\n",
    "        act_type=\"relu\"\n",
    "    )\n",
    "    T= mx.symbol.Activation(\n",
    "        data=mx.symbol.FullyConnected(data=data, num_hidden=emb_size//2, bias=mx.sym.Variable('bias'), name=\"highway_fcT\"),\n",
    "        act_type=\"sigmoid\"\n",
    "    )\n",
    "    return  H * T + data * (1.0 - T)\n"
   ]
  },
  {
   "cell_type": "code",
   "execution_count": 18,
   "metadata": {
    "scrolled": false
   },
   "outputs": [],
   "source": [
    "# CBHG\n",
    "def CBHG(data,K,proj1_size,proj2_size):\n",
    "    #se si usa infer_shape su convbank dando la dimensione dell'input, viene dedotta la shape appunto \n",
    "    bank = conv1dBank(data,K)\n",
    "    poold_bank = mx.sym.Pooling(data=bank, pool_type='max', kernel=(2, 1), stride=(1,1), name=\"CBHG_pool\")\n",
    "\n",
    "    proj1 = mx.sym.Convolution(data=poold_bank, kernel=(3,1), num_filter=proj1_size, name='CBHG_conv1')\n",
    "    (proj1, proj1_mean, proj1_var) = mx.sym.BatchNorm(data=proj1, output_mean_var=True, name='CBHG_batch1')\n",
    "    proj1 = mx.sym.Activation(data=proj1, act_type='relu', name='CBHG_act1')\n",
    "\n",
    "    proj2 = mx.sym.Convolution(proj1, kernel=(3,1), num_filter=proj2_size, name='CBHG_conv2')\n",
    "    (proj2, proj2_mean, proj2_var) = mx.sym.BatchNorm(data=proj2, output_mean_var=True, name='CBHG_batch2')\n",
    "    \n",
    "    residual= proj2 + data\n",
    "\n",
    "    for i in range(4):\n",
    "        residual = highway_layer(residual)\n",
    "    highway_pass = residual\n",
    "   \n",
    "    bidirectional_gru_cell = mx.rnn.BidirectionalCell(\n",
    "        mx.rnn.GRUCell(num_hidden=emb_size//2, prefix='CBHG_gru1'),\n",
    "        mx.rnn.GRUCell(num_hidden=emb_size//2, prefix='CBHG_gru2')\n",
    "    )\n",
    "    outputs, states = bidirectional_gru_cell.unroll(1, inputs=highway_pass, merge_outputs=True)\n",
    "    return outputs"
   ]
  },
  {
   "cell_type": "code",
   "execution_count": 19,
   "metadata": {},
   "outputs": [],
   "source": [
    "# encoder\n",
    "def encoder(data):\n",
    "    embed_vector = mx.sym.Embedding(data=data, input_dim=longest_word, output_dim=emb_size, name='encoder_embed')\n",
    "    prenet_output = prenet_pass(embed_vector)\n",
    "    return CBHG(prenet_output,16, emb_size//2, emb_size//2)"
   ]
  },
  {
   "cell_type": "code",
   "execution_count": 20,
   "metadata": {},
   "outputs": [],
   "source": [
    "text = mx.sym.Variable('text')\n",
    "\n",
    "encoded = encoder(text)\n",
    "graph=mx.viz.plot_network(\n",
    "    encoded,\n",
    "    save_format='pdf',\n",
    "    title='encoder')\n",
    "#graph.render()"
   ]
  },
  {
   "cell_type": "code",
   "execution_count": 21,
   "metadata": {},
   "outputs": [],
   "source": [
    "# decoder\n",
    "def decoder(input_spectrogram,context,reduction_factor):\n",
    "    #embed_vector = mx.sym.Embedding(data=input_spectrogram, input_dim=80, output_dim=emb_size, name='decoder_embed')\n",
    "    prenet_output = prenet_pass(input_spectrogram)\n",
    "        \n",
    "    stack = mx.rnn.SequentialRNNCell()\n",
    "    stack.add(mx.rnn.GRUCell(num_hidden=emb_size,prefix='decoder_layer1_'))\n",
    "    stack.add(mx.rnn.GRUCell(num_hidden=emb_size,prefix='decoder_layer2_'))\n",
    "    \n",
    "    residual_gru_stack = mx.rnn.ResidualCell(stack)\n",
    "    \n",
    "    gru_outputs,states = residual_gru_stack.unroll(length=1,\n",
    "                                               inputs=prenet_output,\n",
    "                                               begin_state=context,\n",
    "                                               merge_outputs=True)\n",
    "\n",
    "    predicted_frames = mx.symbol.Activation(\n",
    "        data=mx.symbol.FullyConnected(data=gru_outputs, num_hidden=80*reduction_factor),\n",
    "        act_type=\"relu\"\n",
    "    )\n",
    "    \n",
    "    return predicted_frames, states"
   ]
  },
  {
   "cell_type": "code",
   "execution_count": 22,
   "metadata": {
    "scrolled": false
   },
   "outputs": [],
   "source": [
    "spectrogram = mx.sym.Variable('spectrogram')\n",
    "spectrograms_count=5 #dummy value\n",
    "decoder_state=[encoded,encoded]\n",
    "predicted_frames=spectrogram\n",
    "full_frame=mx.sym.Variable('go')\n",
    "\n",
    "for i in range(spectrograms_count):\n",
    "    predicted_frames,decoder_state = decoder(predicted_frames,decoder_state,reduction_factor)\n",
    "    full_frame=mx.sym.concat(full_frame,predicted_frames)\n",
    "\n",
    "spectral_magnitude=CBHG(full_frame, 8, emb_size, 80)\n",
    "\n",
    "graph=mx.viz.plot_network(\n",
    "    spectral_magnitude,\n",
    "    save_format='pdf',\n",
    "    title='decoder')\n",
    "#graph.render()"
   ]
  },
  {
   "cell_type": "code",
   "execution_count": null,
   "metadata": {},
   "outputs": [],
   "source": []
  }
 ],
 "metadata": {
  "kernelspec": {
   "display_name": "Python 3",
   "language": "python",
   "name": "python3"
  },
  "language_info": {
   "codemirror_mode": {
    "name": "ipython",
    "version": 3
   },
   "file_extension": ".py",
   "mimetype": "text/x-python",
   "name": "python",
   "nbconvert_exporter": "python",
   "pygments_lexer": "ipython3",
   "version": "3.5.2"
  }
 },
 "nbformat": 4,
 "nbformat_minor": 2
}

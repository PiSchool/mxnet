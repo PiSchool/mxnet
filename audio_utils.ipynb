{
 "cells": [
  {
   "cell_type": "code",
   "execution_count": 80,
   "metadata": {},
   "outputs": [],
   "source": [
    "import librosa as dsp\n",
    "import numpy as np\n",
    "import math"
   ]
  },
  {
   "cell_type": "markdown",
   "metadata": {},
   "source": [
    "pre-emphasis: 0.97; frame length: 50 ms;\n",
    "\n",
    "frame shift: 12.5 ms; window type: Hann"
   ]
  },
  {
   "cell_type": "code",
   "execution_count": 81,
   "metadata": {},
   "outputs": [],
   "source": [
    "\n",
    "def do_preemphasis(wave, pre_emphasis=0.97):\n",
    "    return np.append(wave[0], wave[1:] - pre_emphasis * wave[:-1])\n",
    "    \n",
    "def do_spectrogram(y=None, sr=16000, S=None, n_fft=2048, power=2.0,n_mels=80):\n",
    "    hop_length = math.floor(0.0125*sr);\n",
    "    return dsp.feature.melspectrogram(y,sr=sr,n_fft=n_fft,hop_length=hop_length,n_mels=n_mels)"
   ]
  },
  {
   "cell_type": "code",
   "execution_count": 89,
   "metadata": {},
   "outputs": [
    {
     "data": {
      "text/plain": [
       "array([[  3.22976222e-10,   7.08081194e-08,   2.50564767e-05, ...,\n",
       "          3.77415149e-11,   3.53715383e-12,   1.21378171e-15],\n",
       "       [  4.76472261e-10,   7.70056705e-08,   9.47355973e-05, ...,\n",
       "          1.33078807e-10,   7.87168111e-12,   3.71410268e-15],\n",
       "       [  1.83271364e-10,   1.54615051e-07,   9.49784581e-05, ...,\n",
       "          5.34512906e-11,   6.44811391e-12,   7.00746725e-15],\n",
       "       ..., \n",
       "       [  1.09838410e-09,   4.87154031e-09,   1.84527825e-07, ...,\n",
       "          1.90852015e-11,   2.04444029e-12,   6.22624717e-15],\n",
       "       [  1.17402890e-09,   4.97297018e-09,   1.36067266e-07, ...,\n",
       "          1.40357119e-11,   1.51184183e-12,   4.84043793e-15],\n",
       "       [  4.35556688e-10,   1.56572551e-09,   3.23641367e-08, ...,\n",
       "          2.59900896e-12,   2.77897558e-13,   9.62006161e-16]])"
      ]
     },
     "execution_count": 89,
     "metadata": {},
     "output_type": "execute_result"
    }
   ],
   "source": [
    "#compact version of \n",
    "#https://github.com/cmusphinx/sphinx4/blob/master/sphinx4-core/src/main/java/edu/cmu/sphinx/frontend/filter/Preemphasizer.java\n",
    "#librosa load a file and return a \t y : np.ndarray [shape=(n,) or (2, n)]\n",
    "y, sr = librosa.load(librosa.util.example_audio_file())\n",
    "p=do_preemphasis(y)\n",
    "do_spectrogram(p,sr=sr)"
   ]
  },
  {
   "cell_type": "code",
   "execution_count": null,
   "metadata": {
    "collapsed": true
   },
   "outputs": [],
   "source": []
  }
 ],
 "metadata": {
  "kernelspec": {
   "display_name": "Python 3",
   "language": "python",
   "name": "python3"
  },
  "language_info": {
   "codemirror_mode": {
    "name": "ipython",
    "version": 3
   },
   "file_extension": ".py",
   "mimetype": "text/x-python",
   "name": "python",
   "nbconvert_exporter": "python",
   "pygments_lexer": "ipython3",
   "version": "3.6.3"
  }
 },
 "nbformat": 4,
 "nbformat_minor": 2
}

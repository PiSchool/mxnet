{
 "cells": [
  {
   "cell_type": "code",
   "execution_count": 156,
   "metadata": {},
   "outputs": [],
   "source": [
    "%matplotlib inline\n",
    "from random import choice, randrange\n",
    "import mxnet as mx\n",
    "import numpy as np\n",
    "ctx=mx.cpu(0)\n",
    "import logging\n",
    "logging.getLogger().setLevel(logging.DEBUG)"
   ]
  },
  {
   "cell_type": "code",
   "execution_count": 231,
   "metadata": {},
   "outputs": [],
   "source": [
    "vocabulary=list(\"abcdef\")\n",
    "EOS='§'\n",
    "SOS='#'\n",
    "vocabulary.append(EOS)\n",
    "vocabulary.append(SOS)\n",
    "vocab_size=len(vocabulary)\n",
    "MAX_STRING_LEN = 15\n",
    "MAX_INPUST_LEN = 100\n",
    "num_hidden=64\n",
    "embed_size=64\n",
    "batch_size=100\n",
    "int2char = {i:c for i,c in enumerate(vocabulary)}\n",
    "char2int = {c:i for i,c in enumerate(vocabulary)}"
   ]
  },
  {
   "cell_type": "code",
   "execution_count": 232,
   "metadata": {},
   "outputs": [
    {
     "name": "stdout",
     "output_type": "stream",
     "text": [
      "{0: 'a', 1: 'b', 2: 'c', 3: 'd', 4: 'e', 5: 'f', 6: '§', 7: '#'}\n",
      "vocab size: 8\n"
     ]
    }
   ],
   "source": [
    "print(int2char)\n",
    "print(\"vocab size: \"+str(vocab_size))"
   ]
  },
  {
   "cell_type": "code",
   "execution_count": 233,
   "metadata": {},
   "outputs": [],
   "source": [
    "def generate_strings(min_len, max_len):\n",
    "    random_length = randrange(min_len, max_len)\n",
    "    random_char_list = [choice(vocabulary[:-2]) for _ in range(random_length)]\n",
    "    random_string = ''.join(random_char_list) \n",
    "    return SOS+random_string+EOS"
   ]
  },
  {
   "cell_type": "code",
   "execution_count": 234,
   "metadata": {},
   "outputs": [],
   "source": [
    "def text2ints(string):\n",
    "    return [char2int[char] for char in string]\n",
    "\n",
    "def ints2text(numbers):\n",
    "    return ''.join([int2char[num] for num in numbers])\n",
    "\n",
    "def int2onehot(numbers):\n",
    "    return mx.nd.one_hot(mx.nd.array(numbers),vocab_size)\n",
    "\n",
    "def onehot2int(matrix):\n",
    "    fin=[]\n",
    "    for vec in matrix:\n",
    "        fin.append(int(vec.argmax(axis=0).asnumpy().tolist()[0]))\n",
    "    return fin"
   ]
  },
  {
   "cell_type": "code",
   "execution_count": 235,
   "metadata": {},
   "outputs": [
    {
     "name": "stdout",
     "output_type": "stream",
     "text": [
      "#aeeadbbdfabec§ 15\n"
     ]
    }
   ],
   "source": [
    "string=generate_strings(MAX_STRING_LEN-2, MAX_STRING_LEN-1)\n",
    "print(string, len(string))\n",
    "assert ints2text(text2ints(string)) == string"
   ]
  },
  {
   "cell_type": "code",
   "execution_count": 236,
   "metadata": {},
   "outputs": [],
   "source": [
    "set_size=10000\n",
    "train_set = [text2ints(generate_strings(MAX_STRING_LEN-2, MAX_STRING_LEN-1)) for _ in range(set_size)]\n",
    "inverse_train_set = [[char2int[SOS]]+sentence[1:-1][::-1]+[char2int[EOS]] for sentence in train_set]\n",
    "eval_set = [text2ints(generate_strings(MAX_STRING_LEN-2, MAX_STRING_LEN-1)) for _ in range(set_size//10)]\n",
    "inverse_eval_set = [[char2int[SOS]]+sentence[1:-1][::-1]+[char2int[EOS]] for sentence in eval_set]\n",
    "\n",
    "#print(train_set[0])\n",
    "#print(inverse_train_set[0])"
   ]
  },
  {
   "cell_type": "code",
   "execution_count": 237,
   "metadata": {},
   "outputs": [],
   "source": [
    "train_iter = mx.io.NDArrayIter(\n",
    "    data=mx.nd.one_hot(mx.nd.array(train_set),vocab_size),\n",
    "    label=mx.nd.one_hot(mx.nd.array(inverse_train_set),vocab_size),\n",
    "    batch_size=batch_size\n",
    ")\n",
    "eval_iter = mx.io.NDArrayIter(\n",
    "    data=mx.nd.one_hot(mx.nd.array(eval_set),vocab_size),\n",
    "    label=mx.nd.one_hot(mx.nd.array(inverse_eval_set),vocab_size),\n",
    "    batch_size=batch_size\n",
    ")"
   ]
  },
  {
   "cell_type": "code",
   "execution_count": 238,
   "metadata": {},
   "outputs": [],
   "source": [
    "#def sym_gen(seq_len):\n",
    "    "
   ]
  },
  {
   "cell_type": "code",
   "execution_count": 239,
   "metadata": {},
   "outputs": [],
   "source": [
    "data = mx.sym.Variable('data')\n",
    "label = mx.sym.Variable('softmax_label')\n",
    "\n",
    "embed = mx.sym.Embedding(\n",
    "    data=data,\n",
    "    input_dim=vocab_size,\n",
    "    output_dim=embed_size\n",
    ")"
   ]
  },
  {
   "cell_type": "code",
   "execution_count": 240,
   "metadata": {},
   "outputs": [],
   "source": [
    "bi_cell = mx.rnn.BidirectionalCell(\n",
    "    mx.rnn.GRUCell(num_hidden=num_hidden, prefix=\"gru1_\"),\n",
    "    mx.rnn.GRUCell(num_hidden=num_hidden, prefix=\"gru2_\"),\n",
    "    output_prefix=\"bi_\"\n",
    ")\n",
    "\n",
    "encoder = mx.rnn.ResidualCell(bi_cell)\n",
    "        \n",
    "_, encoder_state = encoder.unroll(\n",
    "    length=MAX_STRING_LEN,\n",
    "    inputs=embed,\n",
    "    merge_outputs=False\n",
    ")\n",
    "\n",
    "encoder_state = mx.sym.concat(encoder_state[0][0],encoder_state[1][0])\n",
    "\n",
    "decoder = mx.rnn.GRUCell(num_hidden=num_hidden*2)\n",
    "\n",
    "rnn_output, decoder_state = decoder.unroll(\n",
    "    length=num_hidden*2,\n",
    "    inputs=encoder_state,\n",
    "    merge_outputs=True\n",
    ")"
   ]
  },
  {
   "cell_type": "code",
   "execution_count": 241,
   "metadata": {},
   "outputs": [],
   "source": [
    "flat=mx.sym.Flatten(data=rnn_output)\n",
    "\n",
    "fc=mx.sym.FullyConnected(\n",
    "    data=flat,\n",
    "    num_hidden=MAX_STRING_LEN*vocab_size\n",
    ")\n",
    "#drop=mx.sym.Dropout(data=fc, p=0.5)\n",
    "act=mx.sym.Activation(data=fc, act_type='relu')\n",
    "\n",
    "\n",
    "out = mx.sym.Reshape(data=act, shape=((0,MAX_STRING_LEN,vocab_size)))\n",
    "\n",
    "#out=mx.sym.round(out)"
   ]
  },
  {
   "cell_type": "code",
   "execution_count": 242,
   "metadata": {},
   "outputs": [],
   "source": [
    "net = mx.sym.LinearRegressionOutput(data=out, label=label)"
   ]
  },
  {
   "cell_type": "code",
   "execution_count": 243,
   "metadata": {
    "scrolled": false
   },
   "outputs": [
    {
     "name": "stderr",
     "output_type": "stream",
     "text": [
      "INFO:root:Epoch[0] Batch [10]\tSpeed: 135.35 samples/sec\taccuracy=0.881182\n",
      "INFO:root:Epoch[0] Batch [20]\tSpeed: 122.81 samples/sec\taccuracy=0.881942\n",
      "INFO:root:Epoch[0] Batch [30]\tSpeed: 135.84 samples/sec\taccuracy=0.878783\n",
      "INFO:root:Epoch[0] Batch [40]\tSpeed: 159.03 samples/sec\taccuracy=0.882467\n",
      "INFO:root:Epoch[0] Batch [50]\tSpeed: 172.17 samples/sec\taccuracy=0.881692\n",
      "INFO:root:Epoch[0] Batch [60]\tSpeed: 170.01 samples/sec\taccuracy=0.884733\n",
      "INFO:root:Epoch[0] Batch [70]\tSpeed: 150.54 samples/sec\taccuracy=0.884958\n",
      "INFO:root:Epoch[0] Batch [80]\tSpeed: 104.80 samples/sec\taccuracy=0.886033\n",
      "INFO:root:Epoch[0] Batch [90]\tSpeed: 103.08 samples/sec\taccuracy=0.887933\n",
      "INFO:root:Epoch[0] Train-accuracy=0.887963\n",
      "INFO:root:Epoch[0] Time cost=75.733\n",
      "INFO:root:Epoch[0] Validation-accuracy=0.893317\n",
      "INFO:root:Epoch[1] Batch [10]\tSpeed: 104.26 samples/sec\taccuracy=0.892386\n",
      "INFO:root:Epoch[1] Batch [20]\tSpeed: 104.51 samples/sec\taccuracy=0.891442\n",
      "INFO:root:Epoch[1] Batch [30]\tSpeed: 102.26 samples/sec\taccuracy=0.892392\n",
      "INFO:root:Epoch[1] Batch [40]\tSpeed: 103.61 samples/sec\taccuracy=0.895533\n",
      "INFO:root:Epoch[1] Batch [50]\tSpeed: 103.80 samples/sec\taccuracy=0.897658\n",
      "INFO:root:Epoch[1] Batch [60]\tSpeed: 103.94 samples/sec\taccuracy=0.898325\n",
      "INFO:root:Epoch[1] Batch [70]\tSpeed: 104.16 samples/sec\taccuracy=0.902300\n",
      "INFO:root:Epoch[1] Batch [80]\tSpeed: 114.78 samples/sec\taccuracy=0.903650\n",
      "INFO:root:Epoch[1] Batch [90]\tSpeed: 143.75 samples/sec\taccuracy=0.906333\n",
      "INFO:root:Epoch[1] Train-accuracy=0.908176\n",
      "INFO:root:Epoch[1] Time cost=89.036\n",
      "INFO:root:Epoch[1] Validation-accuracy=0.915483\n",
      "INFO:root:Epoch[2] Batch [10]\tSpeed: 168.61 samples/sec\taccuracy=0.911765\n",
      "INFO:root:Epoch[2] Batch [20]\tSpeed: 165.53 samples/sec\taccuracy=0.912300\n",
      "INFO:root:Epoch[2] Batch [30]\tSpeed: 107.60 samples/sec\taccuracy=0.916592\n",
      "INFO:root:Epoch[2] Batch [40]\tSpeed: 103.75 samples/sec\taccuracy=0.917683\n",
      "INFO:root:Epoch[2] Batch [50]\tSpeed: 104.28 samples/sec\taccuracy=0.920683\n",
      "INFO:root:Epoch[2] Batch [60]\tSpeed: 93.54 samples/sec\taccuracy=0.922058\n",
      "INFO:root:Epoch[2] Batch [70]\tSpeed: 103.42 samples/sec\taccuracy=0.923417\n",
      "INFO:root:Epoch[2] Batch [80]\tSpeed: 111.87 samples/sec\taccuracy=0.925767\n",
      "INFO:root:Epoch[2] Batch [90]\tSpeed: 169.19 samples/sec\taccuracy=0.927483\n",
      "INFO:root:Epoch[2] Train-accuracy=0.926194\n",
      "INFO:root:Epoch[2] Time cost=81.350\n",
      "INFO:root:Epoch[2] Validation-accuracy=0.930350\n",
      "INFO:root:Epoch[3] Batch [10]\tSpeed: 170.74 samples/sec\taccuracy=0.928879\n",
      "INFO:root:Epoch[3] Batch [20]\tSpeed: 170.73 samples/sec\taccuracy=0.929300\n",
      "INFO:root:Epoch[3] Batch [30]\tSpeed: 169.36 samples/sec\taccuracy=0.929967\n",
      "INFO:root:Epoch[3] Batch [40]\tSpeed: 117.63 samples/sec\taccuracy=0.931425\n",
      "INFO:root:Epoch[3] Batch [50]\tSpeed: 103.30 samples/sec\taccuracy=0.930175\n",
      "INFO:root:Epoch[3] Batch [60]\tSpeed: 98.97 samples/sec\taccuracy=0.930858\n",
      "INFO:root:Epoch[3] Batch [70]\tSpeed: 102.54 samples/sec\taccuracy=0.932025\n",
      "INFO:root:Epoch[3] Batch [80]\tSpeed: 102.78 samples/sec\taccuracy=0.932742\n",
      "INFO:root:Epoch[3] Batch [90]\tSpeed: 143.31 samples/sec\taccuracy=0.931575\n",
      "INFO:root:Epoch[3] Train-accuracy=0.931685\n",
      "INFO:root:Epoch[3] Time cost=78.046\n",
      "INFO:root:Epoch[3] Validation-accuracy=0.935950\n",
      "INFO:root:Epoch[4] Batch [10]\tSpeed: 169.65 samples/sec\taccuracy=0.933598\n",
      "INFO:root:Epoch[4] Batch [20]\tSpeed: 169.00 samples/sec\taccuracy=0.932367\n",
      "INFO:root:Epoch[4] Batch [30]\tSpeed: 168.69 samples/sec\taccuracy=0.933575\n",
      "INFO:root:Epoch[4] Batch [40]\tSpeed: 169.22 samples/sec\taccuracy=0.933667\n",
      "INFO:root:Epoch[4] Batch [50]\tSpeed: 129.64 samples/sec\taccuracy=0.933692\n",
      "INFO:root:Epoch[4] Batch [60]\tSpeed: 102.63 samples/sec\taccuracy=0.933633\n",
      "INFO:root:Epoch[4] Batch [70]\tSpeed: 103.57 samples/sec\taccuracy=0.934450\n",
      "INFO:root:Epoch[4] Batch [80]\tSpeed: 100.40 samples/sec\taccuracy=0.935358\n",
      "INFO:root:Epoch[4] Batch [90]\tSpeed: 147.80 samples/sec\taccuracy=0.933375\n",
      "INFO:root:Epoch[4] Train-accuracy=0.934333\n",
      "INFO:root:Epoch[4] Time cost=73.132\n",
      "INFO:root:Epoch[4] Validation-accuracy=0.938950\n",
      "INFO:root:Epoch[5] Batch [10]\tSpeed: 168.41 samples/sec\taccuracy=0.934811\n",
      "INFO:root:Epoch[5] Batch [20]\tSpeed: 168.60 samples/sec\taccuracy=0.935733\n",
      "INFO:root:Epoch[5] Batch [30]\tSpeed: 169.54 samples/sec\taccuracy=0.934375\n",
      "INFO:root:Epoch[5] Batch [40]\tSpeed: 169.23 samples/sec\taccuracy=0.934958\n",
      "INFO:root:Epoch[5] Batch [50]\tSpeed: 170.56 samples/sec\taccuracy=0.935467\n",
      "INFO:root:Epoch[5] Batch [60]\tSpeed: 154.27 samples/sec\taccuracy=0.933767\n",
      "INFO:root:Epoch[5] Batch [70]\tSpeed: 102.80 samples/sec\taccuracy=0.936150\n",
      "INFO:root:Epoch[5] Batch [80]\tSpeed: 104.14 samples/sec\taccuracy=0.935033\n",
      "INFO:root:Epoch[5] Batch [90]\tSpeed: 138.65 samples/sec\taccuracy=0.935525\n",
      "INFO:root:Epoch[5] Train-accuracy=0.934546\n",
      "INFO:root:Epoch[5] Time cost=68.248\n",
      "INFO:root:Epoch[5] Validation-accuracy=0.944158\n",
      "INFO:root:Epoch[6] Batch [10]\tSpeed: 144.48 samples/sec\taccuracy=0.935061\n",
      "INFO:root:Epoch[6] Batch [20]\tSpeed: 157.55 samples/sec\taccuracy=0.937033\n",
      "INFO:root:Epoch[6] Batch [30]\tSpeed: 152.98 samples/sec\taccuracy=0.934342\n",
      "INFO:root:Epoch[6] Batch [40]\tSpeed: 154.14 samples/sec\taccuracy=0.936558\n",
      "INFO:root:Epoch[6] Batch [50]\tSpeed: 139.50 samples/sec\taccuracy=0.935450\n",
      "INFO:root:Epoch[6] Batch [60]\tSpeed: 166.88 samples/sec\taccuracy=0.934133\n",
      "INFO:root:Epoch[6] Batch [70]\tSpeed: 169.57 samples/sec\taccuracy=0.937142\n",
      "INFO:root:Epoch[6] Batch [80]\tSpeed: 122.82 samples/sec\taccuracy=0.935175\n",
      "INFO:root:Epoch[6] Batch [90]\tSpeed: 152.65 samples/sec\taccuracy=0.936117\n",
      "INFO:root:Epoch[6] Train-accuracy=0.935157\n",
      "INFO:root:Epoch[6] Time cost=66.083\n",
      "INFO:root:Epoch[6] Validation-accuracy=0.945275\n",
      "INFO:root:Epoch[7] Batch [10]\tSpeed: 147.66 samples/sec\taccuracy=0.935424\n",
      "INFO:root:Epoch[7] Batch [20]\tSpeed: 161.51 samples/sec\taccuracy=0.937550\n",
      "INFO:root:Epoch[7] Batch [30]\tSpeed: 161.70 samples/sec\taccuracy=0.936025\n",
      "INFO:root:Epoch[7] Batch [40]\tSpeed: 165.99 samples/sec\taccuracy=0.934675\n",
      "INFO:root:Epoch[7] Batch [50]\tSpeed: 169.21 samples/sec\taccuracy=0.937075\n",
      "INFO:root:Epoch[7] Batch [60]\tSpeed: 168.36 samples/sec\taccuracy=0.934475\n",
      "INFO:root:Epoch[7] Batch [70]\tSpeed: 169.64 samples/sec\taccuracy=0.936392\n",
      "INFO:root:Epoch[7] Batch [80]\tSpeed: 163.56 samples/sec\taccuracy=0.935658\n",
      "INFO:root:Epoch[7] Batch [90]\tSpeed: 156.75 samples/sec\taccuracy=0.935508\n",
      "INFO:root:Epoch[7] Train-accuracy=0.936111\n",
      "INFO:root:Epoch[7] Time cost=61.125\n",
      "INFO:root:Epoch[7] Validation-accuracy=0.946242\n"
     ]
    }
   ],
   "source": [
    "model = mx.module.Module(net)\n",
    "model.fit(\n",
    "    train_data=train_iter,\n",
    "    eval_data=eval_iter,\n",
    "    eval_metric = 'acc',\n",
    "    optimizer=mx.optimizer.Adam(rescale_grad=1/batch_size),\n",
    "    #optimizer_params={'learning_rate':0.001, 'momentum':0.9},\n",
    "    initializer=mx.initializer.Xavier(),\n",
    "    batch_end_callback=mx.callback.Speedometer(batch_size, 10),\n",
    "    num_epoch=8\n",
    ")"
   ]
  },
  {
   "cell_type": "code",
   "execution_count": 244,
   "metadata": {},
   "outputs": [
    {
     "name": "stdout",
     "output_type": "stream",
     "text": [
      "Matched 50/50 times\n"
     ]
    }
   ],
   "source": [
    "import difflib\n",
    "\n",
    "items=50\n",
    "\n",
    "test_set = [text2ints(generate_strings(MAX_STRING_LEN-2, MAX_STRING_LEN-1)) for _ in range(items)]\n",
    "\n",
    "#print(test_set[0])\n",
    "#print(ints2text(test_set[0]))\n",
    "\n",
    "inverse_test_set = [[char2int[SOS]]+sentence[1:-1][::-1]+[char2int[EOS]] for sentence in test_set]    \n",
    "\n",
    "#print(inverse_test_set[0])\n",
    "#print(ints2text(inverse_test_set[0]))\n",
    "    \n",
    "#print(mx.nd.one_hot(mx.nd.array(test_set[0]),vocab_size))\n",
    "#print(mx.nd.one_hot(mx.nd.array(inverse_test_set[0]),vocab_size))\n",
    "\n",
    "test_iter = mx.io.NDArrayIter(\n",
    "    data=mx.nd.one_hot(mx.nd.array(test_set),vocab_size),\n",
    "    label=mx.nd.one_hot(mx.nd.array(inverse_test_set),vocab_size),\n",
    "    batch_size=1\n",
    ")\n",
    "\n",
    "#test_iter.reset()\n",
    "predictions=model.predict(test_iter)\n",
    "\n",
    "match_count=0\n",
    "for i,pred in enumerate(predictions):\n",
    "    matched = ints2text(onehot2int(mx.ndarray.round(predictions[i]))) == ints2text(inverse_test_set[i])\n",
    "    if matched:\n",
    "        match_count+=1\n",
    "    else:       \n",
    "        print(i)\n",
    "        inverse=ints2text(inverse_test_set[i])\n",
    "        print(inverse)\n",
    "        inverse_pred=ints2text(onehot2int(mx.ndarray.round(predictions[i])))\n",
    "        print(inverse_pred)\n",
    "        print(matched)\n",
    "        for i,s in enumerate(difflib.ndiff(inverse, inverse_pred)):\n",
    "            if s[0]==' ': continue\n",
    "            elif s[0]=='-':\n",
    "                print(u'Delete \"{}\" from position {}'.format(s[-1],i))\n",
    "            elif s[0]=='+':\n",
    "                print(u'Add \"{}\" to position {}'.format(s[-1],i))    \n",
    "        print(\"--------------------\")\n",
    "\n",
    "print(\"Matched %d/%d times\" % (match_count,items))\n",
    "    "
   ]
  },
  {
   "cell_type": "code",
   "execution_count": null,
   "metadata": {},
   "outputs": [],
   "source": []
  }
 ],
 "metadata": {
  "kernelspec": {
   "display_name": "Python 3",
   "language": "python",
   "name": "python3"
  },
  "language_info": {
   "codemirror_mode": {
    "name": "ipython",
    "version": 3
   },
   "file_extension": ".py",
   "mimetype": "text/x-python",
   "name": "python",
   "nbconvert_exporter": "python",
   "pygments_lexer": "ipython3",
   "version": "3.5.2"
  }
 },
 "nbformat": 4,
 "nbformat_minor": 2
}
